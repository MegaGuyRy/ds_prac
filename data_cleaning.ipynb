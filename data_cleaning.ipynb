{
 "cells": [
  {
   "cell_type": "code",
   "execution_count": 41,
   "id": "a555c571-328b-4356-807c-3e75d2073fdf",
   "metadata": {},
   "outputs": [
    {
     "name": "stdout",
     "output_type": "stream",
     "text": [
      "dict_keys(['response', 'request', 'apiVersion', 'ExcelAddInVersion'])\n",
      "       period duoarea area-name product   product-name process  \\\n",
      "0  2025-06-30   YCUOK        NA  EPCWTI  WTI Crude Oil     PF4   \n",
      "1  2025-06-27   YCUOK        NA  EPCWTI  WTI Crude Oil     PF4   \n",
      "2  2025-06-26   YCUOK        NA  EPCWTI  WTI Crude Oil     PF4   \n",
      "3  2025-06-25   YCUOK        NA  EPCWTI  WTI Crude Oil     PF4   \n",
      "4  2025-06-24   YCUOK        NA  EPCWTI  WTI Crude Oil     PF4   \n",
      "\n",
      "     process-name series                                 series-description  \\\n",
      "0  Spot Price FOB   RWTC  Cushing, OK WTI Spot Price FOB (Dollars per Ba...   \n",
      "1  Spot Price FOB   RWTC  Cushing, OK WTI Spot Price FOB (Dollars per Ba...   \n",
      "2  Spot Price FOB   RWTC  Cushing, OK WTI Spot Price FOB (Dollars per Ba...   \n",
      "3  Spot Price FOB   RWTC  Cushing, OK WTI Spot Price FOB (Dollars per Ba...   \n",
      "4  Spot Price FOB   RWTC  Cushing, OK WTI Spot Price FOB (Dollars per Ba...   \n",
      "\n",
      "   value  units  \n",
      "0  66.30  $/BBL  \n",
      "1  66.66  $/BBL  \n",
      "2  66.44  $/BBL  \n",
      "3  65.98  $/BBL  \n",
      "4  65.45  $/BBL  \n"
     ]
    }
   ],
   "source": [
    "import requests\n",
    "import pandas as pd\n",
    "\n",
    "# Load API key from file\n",
    "with open(\"api_key.txt\") as f:\n",
    "    API_KEY = f.read().strip()\n",
    "\n",
    "# Build URL\n",
    "url = f\"https://api.eia.gov/v2/seriesid/PET.RWTC.D?API_KEY={API_KEY}\"\n",
    "\n",
    "# Fetch data\n",
    "response = requests.get(url)\n",
    "data_json = response.json()\n",
    "\n",
    "# Check structure\n",
    "print(data_json.keys())\n",
    "\n",
    "# Check for error\n",
    "if \"error\" in data_json:\n",
    "    print(\"API error:\", data_json[\"error\"])\n",
    "else:\n",
    "    data = data_json[\"response\"][\"data\"]\n",
    "    df = pd.DataFrame(data)\n",
    "    print(df.head())\n"
   ]
  },
  {
   "cell_type": "code",
   "execution_count": 42,
   "id": "38f6da95-5c65-43e7-a86c-e6930f9e5d8f",
   "metadata": {},
   "outputs": [
    {
     "name": "stdout",
     "output_type": "stream",
     "text": [
      "(5000, 3)\n",
      "        Date  Price   Unit\n",
      "0 2025-06-30  66.30  $/BBL\n",
      "1 2025-06-27  66.66  $/BBL\n",
      "2 2025-06-26  66.44  $/BBL\n",
      "3 2025-06-25  65.98  $/BBL\n",
      "4 2025-06-24  65.45  $/BBL\n",
      "           Date  Price   Unit\n",
      "4995 2005-08-10  64.80  $/BBL\n",
      "4996 2005-08-09  63.13  $/BBL\n",
      "4997 2005-08-08  63.92  $/BBL\n",
      "4998 2005-08-05  62.44  $/BBL\n",
      "4999 2005-08-04  61.60  $/BBL\n"
     ]
    }
   ],
   "source": [
    "# Reorganize dataframe with relievant data\n",
    "df = df[[\"period\", \"value\", \"units\"]].copy()\n",
    "\n",
    "# Convert period to pandas datetime format\n",
    "df[\"period\"] = pd.to_datetime(df[\"period\"])\n",
    "df.rename(columns={\"period\": \"Date\", \"value\": \"Price\", \"units\": \"Unit\"}, inplace=True)\n",
    "print(df.shape)\n",
    "print(df.head())\n",
    "print(df.tail())"
   ]
  },
  {
   "cell_type": "code",
   "execution_count": null,
   "id": "a91d1a9d-799e-4d2a-93dd-e020a6d293e9",
   "metadata": {},
   "outputs": [],
   "source": []
  }
 ],
 "metadata": {
  "kernelspec": {
   "display_name": "Python 3 (ipykernel)",
   "language": "python",
   "name": "python3"
  },
  "language_info": {
   "codemirror_mode": {
    "name": "ipython",
    "version": 3
   },
   "file_extension": ".py",
   "mimetype": "text/x-python",
   "name": "python",
   "nbconvert_exporter": "python",
   "pygments_lexer": "ipython3",
   "version": "3.10.18"
  }
 },
 "nbformat": 4,
 "nbformat_minor": 5
}
